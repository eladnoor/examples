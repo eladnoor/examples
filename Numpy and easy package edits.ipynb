{
 "cells": [
  {
   "cell_type": "code",
   "execution_count": 1,
   "metadata": {},
   "outputs": [],
   "source": [
    "import quilt"
   ]
  },
  {
   "cell_type": "markdown",
   "metadata": {},
   "source": [
    "# Create empty package to put things in\n",
    "**Be sure to use your own username**, not ~~`akarve`~~"
   ]
  },
  {
   "cell_type": "code",
   "execution_count": 2,
   "metadata": {},
   "outputs": [],
   "source": [
    "quilt.build(\"akarve/labdata\")"
   ]
  },
  {
   "cell_type": "code",
   "execution_count": 3,
   "metadata": {},
   "outputs": [],
   "source": [
    "pkg = quilt.load(\"akarve/labdata\")"
   ]
  },
  {
   "cell_type": "code",
   "execution_count": 4,
   "metadata": {},
   "outputs": [],
   "source": [
    "import numpy as np"
   ]
  },
  {
   "cell_type": "code",
   "execution_count": 5,
   "metadata": {},
   "outputs": [
    {
     "data": {
      "text/plain": [
       "array([[0.36943161, 0.19685814, 0.20146202, ..., 0.01486223, 0.2187198 ,\n",
       "        0.51956452],\n",
       "       [0.36240959, 0.06119866, 0.40068243, ..., 0.49970601, 0.31085408,\n",
       "        0.85018318],\n",
       "       [0.09265905, 0.66302181, 0.47526161, ..., 0.33141043, 0.43671094,\n",
       "        0.89329604],\n",
       "       ...,\n",
       "       [0.16514505, 0.97076938, 0.05710785, ..., 0.71158723, 0.75424996,\n",
       "        0.93805918],\n",
       "       [0.017036  , 0.61167539, 0.90343186, ..., 0.80784383, 0.15195359,\n",
       "        0.83609985],\n",
       "       [0.91701695, 0.08798142, 0.69598023, ..., 0.72725579, 0.68747758,\n",
       "        0.17570714]])"
      ]
     },
     "execution_count": 5,
     "metadata": {},
     "output_type": "execute_result"
    }
   ],
   "source": [
    "d1 = np.random.rand(100, 100)\n",
    "d1"
   ]
  },
  {
   "cell_type": "markdown",
   "metadata": {},
   "source": [
    "# Subpackage build\n",
    "Creates a _local_ package with only the specified subpackage path changed."
   ]
  },
  {
   "cell_type": "code",
   "execution_count": 6,
   "metadata": {},
   "outputs": [],
   "source": [
    "quilt.build(\"akarve/labdata/d1\", d1)"
   ]
  },
  {
   "cell_type": "markdown",
   "metadata": {},
   "source": [
    "We use `load` and not `import` since Python caches module imports, and therefore `import` wouldn't see the change to `/d1`"
   ]
  },
  {
   "cell_type": "code",
   "execution_count": 7,
   "metadata": {},
   "outputs": [],
   "source": [
    "pkg = quilt.load(\"akarve/labdata\")"
   ]
  },
  {
   "cell_type": "code",
   "execution_count": 8,
   "metadata": {},
   "outputs": [
    {
     "data": {
      "text/plain": [
       "<PackageNode '/Users/karve/Library/Application Support/QuiltCli/quilt_packages/pkgs/Quilt/akarve/labdata'>\n",
       "d1"
      ]
     },
     "execution_count": 8,
     "metadata": {},
     "output_type": "execute_result"
    }
   ],
   "source": [
    "pkg"
   ]
  },
  {
   "cell_type": "markdown",
   "metadata": {},
   "source": [
    "# Numpy arrays are first class\n",
    "And get the same syntactic sugar as pandas dataframes"
   ]
  },
  {
   "cell_type": "code",
   "execution_count": 9,
   "metadata": {},
   "outputs": [
    {
     "data": {
      "text/plain": [
       "array([[0.36943161, 0.19685814, 0.20146202, ..., 0.01486223, 0.2187198 ,\n",
       "        0.51956452],\n",
       "       [0.36240959, 0.06119866, 0.40068243, ..., 0.49970601, 0.31085408,\n",
       "        0.85018318],\n",
       "       [0.09265905, 0.66302181, 0.47526161, ..., 0.33141043, 0.43671094,\n",
       "        0.89329604],\n",
       "       ...,\n",
       "       [0.16514505, 0.97076938, 0.05710785, ..., 0.71158723, 0.75424996,\n",
       "        0.93805918],\n",
       "       [0.017036  , 0.61167539, 0.90343186, ..., 0.80784383, 0.15195359,\n",
       "        0.83609985],\n",
       "       [0.91701695, 0.08798142, 0.69598023, ..., 0.72725579, 0.68747758,\n",
       "        0.17570714]])"
      ]
     },
     "execution_count": 9,
     "metadata": {},
     "output_type": "execute_result"
    }
   ],
   "source": [
    "pkg.d1()"
   ]
  },
  {
   "cell_type": "markdown",
   "metadata": {},
   "source": [
    "# Subpackage push\n",
    "We can now atomically push sub-packages such that non-overlapping subpackage pushes all end up in *the same package*. When pushes overlap, last write wins."
   ]
  },
  {
   "cell_type": "code",
   "execution_count": 10,
   "metadata": {},
   "outputs": [
    {
     "data": {
      "text/plain": [
       "<PackageNode '/Users/karve/Library/Application Support/QuiltCli/quilt_packages/pkgs/Quilt/akarve/labdata'>\n",
       "d1"
      ]
     },
     "execution_count": 10,
     "metadata": {},
     "output_type": "execute_result"
    }
   ],
   "source": [
    "pkg"
   ]
  },
  {
   "cell_type": "markdown",
   "metadata": {},
   "source": [
    "First, create a repository to push to:"
   ]
  },
  {
   "cell_type": "code",
   "execution_count": 11,
   "metadata": {},
   "outputs": [
    {
     "name": "stderr",
     "output_type": "stream",
     "text": [
      "\r",
      "  0%|          | 0.00/80.1k [00:00<?, ?B/s]"
     ]
    },
    {
     "name": "stdout",
     "output_type": "stream",
     "text": [
      "Fetching upload URLs from the registry...\n",
      "Uploading 1 fragments (80128 bytes)...\n"
     ]
    },
    {
     "name": "stderr",
     "output_type": "stream",
     "text": [
      "100%|██████████| 80.1k/80.1k [00:01<00:00, 64.2kB/s]\n"
     ]
    },
    {
     "name": "stdout",
     "output_type": "stream",
     "text": [
      "Uploading package metadata...\n",
      "Updating the 'latest' tag...\n",
      "Push complete. akarve/labdata is live:\n",
      "https://stage.quiltdata.com/package/akarve/labdata\n"
     ]
    }
   ],
   "source": [
    "quilt.push(\"akarve/labdata\", is_public=False)"
   ]
  },
  {
   "cell_type": "markdown",
   "metadata": {},
   "source": [
    "Add some more data"
   ]
  },
  {
   "cell_type": "code",
   "execution_count": null,
   "metadata": {},
   "outputs": [],
   "source": [
    "d2 = np.random.rand(500, 10)\n",
    "d3 = np.random.rand(20, 45)\n",
    "quilt.build(\"akarve/labdata/d2\", d2)\n",
    "quilt.push(\"akarve/labdata/d2\")"
   ]
  },
  {
   "cell_type": "code",
   "execution_count": 13,
   "metadata": {},
   "outputs": [
    {
     "data": {
      "text/plain": [
       "<PackageNode '/Users/karve/Library/Application Support/QuiltCli/quilt_packages/pkgs/Quilt/akarve/labdata'>\n",
       "d1\n",
       "d2"
      ]
     },
     "execution_count": 13,
     "metadata": {},
     "output_type": "execute_result"
    }
   ],
   "source": [
    "pkg = quilt.load(\"akarve/labdata\")\n",
    "pkg"
   ]
  },
  {
   "cell_type": "markdown",
   "metadata": {},
   "source": [
    "## Accumulate changes\n",
    "`quilt.push(\"akarve/labdata/d3\")` can happen on any machine logged in as `akarve`. Note how non-overlapping changes accumulate. In this way multiple machines can contribute to the same package."
   ]
  },
  {
   "cell_type": "code",
   "execution_count": null,
   "metadata": {},
   "outputs": [],
   "source": [
    "quilt.build(\"akarve/labdata/d3\", d3)\n",
    "quilt.push(\"akarve/labdata/d3\")"
   ]
  },
  {
   "cell_type": "code",
   "execution_count": 15,
   "metadata": {},
   "outputs": [
    {
     "data": {
      "text/plain": [
       "<PackageNode '/Users/karve/Library/Application Support/QuiltCli/quilt_packages/pkgs/Quilt/akarve/labdata'>\n",
       "d1\n",
       "d2\n",
       "d3"
      ]
     },
     "execution_count": 15,
     "metadata": {},
     "output_type": "execute_result"
    }
   ],
   "source": [
    "pkg = quilt.load(\"akarve/labdata\")\n",
    "pkg"
   ]
  },
  {
   "cell_type": "code",
   "execution_count": null,
   "metadata": {},
   "outputs": [],
   "source": []
  }
 ],
 "metadata": {
  "kernelspec": {
   "display_name": "Python 3",
   "language": "python",
   "name": "python3"
  },
  "language_info": {
   "codemirror_mode": {
    "name": "ipython",
    "version": 3
   },
   "file_extension": ".py",
   "mimetype": "text/x-python",
   "name": "python",
   "nbconvert_exporter": "python",
   "pygments_lexer": "ipython3",
   "version": "3.6.3"
  }
 },
 "nbformat": 4,
 "nbformat_minor": 2
}
