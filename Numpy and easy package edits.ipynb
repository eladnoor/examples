{
 "cells": [
  {
   "cell_type": "code",
   "execution_count": 1,
   "metadata": {},
   "outputs": [],
   "source": [
    "import quilt"
   ]
  },
  {
   "cell_type": "markdown",
   "metadata": {},
   "source": [
    "# Create empty package to put things in\n",
    "**Be sure to use your own username**, not ~~`akarve`~~"
   ]
  },
  {
   "cell_type": "code",
   "execution_count": 2,
   "metadata": {},
   "outputs": [],
   "source": [
    "quilt.build(\"akarve/labdata\")"
   ]
  },
  {
   "cell_type": "code",
   "execution_count": 3,
   "metadata": {},
   "outputs": [],
   "source": [
    "pkg = quilt.load(\"akarve/labdata\")"
   ]
  },
  {
   "cell_type": "code",
   "execution_count": 4,
   "metadata": {},
   "outputs": [],
   "source": [
    "import numpy as np"
   ]
  },
  {
   "cell_type": "code",
   "execution_count": 5,
   "metadata": {},
   "outputs": [
    {
     "data": {
      "text/plain": [
       "array([[0.23362681, 0.16376952, 0.62165598, ..., 0.51246617, 0.325308  ,\n",
       "        0.45753948],\n",
       "       [0.20064161, 0.58368267, 0.97908945, ..., 0.05517717, 0.47587184,\n",
       "        0.72607217],\n",
       "       [0.98412468, 0.7155941 , 0.87649815, ..., 0.60871467, 0.1524475 ,\n",
       "        0.37090763],\n",
       "       ...,\n",
       "       [0.26420395, 0.13619433, 0.65508947, ..., 0.05125573, 0.57137591,\n",
       "        0.96695111],\n",
       "       [0.99371047, 0.29772608, 0.3695708 , ..., 0.27058831, 0.50847983,\n",
       "        0.23354084],\n",
       "       [0.06152973, 0.85535637, 0.4641426 , ..., 0.2251114 , 0.62399957,\n",
       "        0.53314892]])"
      ]
     },
     "execution_count": 5,
     "metadata": {},
     "output_type": "execute_result"
    }
   ],
   "source": [
    "d1 = np.random.rand(100, 100)\n",
    "d1"
   ]
  },
  {
   "cell_type": "markdown",
   "metadata": {},
   "source": [
    "# Subpackage build\n",
    "Creates a _local_ package with only the specified subpackage path changed."
   ]
  },
  {
   "cell_type": "code",
   "execution_count": 6,
   "metadata": {},
   "outputs": [],
   "source": [
    "quilt.build(\"akarve/labdata/d1\", d1)"
   ]
  },
  {
   "cell_type": "markdown",
   "metadata": {},
   "source": [
    "We use `load` and not `import` since Python caches module imports, and therefore `import` wouldn't see the change to `/d1`"
   ]
  },
  {
   "cell_type": "code",
   "execution_count": 7,
   "metadata": {},
   "outputs": [],
   "source": [
    "pkg = quilt.load(\"akarve/labdata\")"
   ]
  },
  {
   "cell_type": "code",
   "execution_count": 8,
   "metadata": {},
   "outputs": [
    {
     "data": {
      "text/plain": [
       "<PackageNode '/Users/karve/Library/Application Support/QuiltCli/quilt_packages/pkgs/Quilt/akarve/labdata'>\n",
       "d1"
      ]
     },
     "execution_count": 8,
     "metadata": {},
     "output_type": "execute_result"
    }
   ],
   "source": [
    "pkg"
   ]
  },
  {
   "cell_type": "markdown",
   "metadata": {},
   "source": [
    "# Numpy arrays are first class\n",
    "And get the same syntactic sugar as pandas dataframes"
   ]
  },
  {
   "cell_type": "code",
   "execution_count": 9,
   "metadata": {},
   "outputs": [
    {
     "data": {
      "text/plain": [
       "array([[0.23362681, 0.16376952, 0.62165598, ..., 0.51246617, 0.325308  ,\n",
       "        0.45753948],\n",
       "       [0.20064161, 0.58368267, 0.97908945, ..., 0.05517717, 0.47587184,\n",
       "        0.72607217],\n",
       "       [0.98412468, 0.7155941 , 0.87649815, ..., 0.60871467, 0.1524475 ,\n",
       "        0.37090763],\n",
       "       ...,\n",
       "       [0.26420395, 0.13619433, 0.65508947, ..., 0.05125573, 0.57137591,\n",
       "        0.96695111],\n",
       "       [0.99371047, 0.29772608, 0.3695708 , ..., 0.27058831, 0.50847983,\n",
       "        0.23354084],\n",
       "       [0.06152973, 0.85535637, 0.4641426 , ..., 0.2251114 , 0.62399957,\n",
       "        0.53314892]])"
      ]
     },
     "execution_count": 9,
     "metadata": {},
     "output_type": "execute_result"
    }
   ],
   "source": [
    "pkg.d1()"
   ]
  },
  {
   "cell_type": "markdown",
   "metadata": {},
   "source": [
    "# Subpackage push\n",
    "We can now atomically push sub-packages such that non-overlapping subpackage pushes all end up in *the same package*. When pushes overlap, last write wins."
   ]
  },
  {
   "cell_type": "code",
   "execution_count": 10,
   "metadata": {},
   "outputs": [
    {
     "data": {
      "text/plain": [
       "<PackageNode '/Users/karve/Library/Application Support/QuiltCli/quilt_packages/pkgs/Quilt/akarve/labdata'>\n",
       "d1"
      ]
     },
     "execution_count": 10,
     "metadata": {},
     "output_type": "execute_result"
    }
   ],
   "source": [
    "pkg"
   ]
  },
  {
   "cell_type": "markdown",
   "metadata": {},
   "source": [
    "First, create a repository to push to:"
   ]
  },
  {
   "cell_type": "code",
   "execution_count": null,
   "metadata": {},
   "outputs": [],
   "source": [
    "quilt.push(\"akarve/labdata\", is_public=True)"
   ]
  },
  {
   "cell_type": "markdown",
   "metadata": {},
   "source": [
    "Add some more data"
   ]
  },
  {
   "cell_type": "code",
   "execution_count": null,
   "metadata": {},
   "outputs": [],
   "source": [
    "d2 = np.random.rand(500, 10)\n",
    "d3 = np.random.rand(20, 45)\n",
    "quilt.build(\"akarve/labdata/d2\", d2)\n",
    "quilt.push(\"akarve/labdata/d2\")"
   ]
  },
  {
   "cell_type": "code",
   "execution_count": 13,
   "metadata": {},
   "outputs": [
    {
     "data": {
      "text/plain": [
       "<PackageNode '/Users/karve/Library/Application Support/QuiltCli/quilt_packages/pkgs/Quilt/akarve/labdata'>\n",
       "d1\n",
       "d2"
      ]
     },
     "execution_count": 13,
     "metadata": {},
     "output_type": "execute_result"
    }
   ],
   "source": [
    "pkg = quilt.load(\"akarve/labdata\")\n",
    "pkg"
   ]
  },
  {
   "cell_type": "markdown",
   "metadata": {},
   "source": [
    "## Accumulate changes\n",
    "`quilt.push(\"akarve/labdata/d3\")` can happen on any machine logged in as `akarve`. Note how non-overlapping changes accumulate. In this way multiple machines can contribute to the same package."
   ]
  },
  {
   "cell_type": "code",
   "execution_count": null,
   "metadata": {},
   "outputs": [],
   "source": [
    "quilt.build(\"akarve/labdata/d3\", d3)\n",
    "quilt.push(\"akarve/labdata/d3\")"
   ]
  },
  {
   "cell_type": "code",
   "execution_count": 15,
   "metadata": {},
   "outputs": [
    {
     "data": {
      "text/plain": [
       "<PackageNode '/Users/karve/Library/Application Support/QuiltCli/quilt_packages/pkgs/Quilt/akarve/labdata'>\n",
       "d1\n",
       "d2\n",
       "d3"
      ]
     },
     "execution_count": 15,
     "metadata": {},
     "output_type": "execute_result"
    }
   ],
   "source": [
    "pkg = quilt.load(\"akarve/labdata\")\n",
    "pkg"
   ]
  },
  {
   "cell_type": "code",
   "execution_count": null,
   "metadata": {},
   "outputs": [],
   "source": []
  }
 ],
 "metadata": {
  "kernelspec": {
   "display_name": "Python 3",
   "language": "python",
   "name": "python3"
  },
  "language_info": {
   "codemirror_mode": {
    "name": "ipython",
    "version": 3
   },
   "file_extension": ".py",
   "mimetype": "text/x-python",
   "name": "python",
   "nbconvert_exporter": "python",
   "pygments_lexer": "ipython3",
   "version": "3.6.3"
  }
 },
 "nbformat": 4,
 "nbformat_minor": 2
}
