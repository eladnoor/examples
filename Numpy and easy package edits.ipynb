{
 "cells": [
  {
   "cell_type": "code",
   "execution_count": 2,
   "metadata": {},
   "outputs": [],
   "source": [
    "import quilt"
   ]
  },
  {
   "cell_type": "markdown",
   "metadata": {},
   "source": [
    "# Create empty package to put things in\n",
    "**Be sure to use your own username**, not ~~`akarve`~~"
   ]
  },
  {
   "cell_type": "code",
   "execution_count": 3,
   "metadata": {},
   "outputs": [],
   "source": [
    "quilt.build(\"akarve/labdata\")"
   ]
  },
  {
   "cell_type": "code",
   "execution_count": 4,
   "metadata": {},
   "outputs": [],
   "source": [
    "pkg = quilt.load(\"akarve/labdata\")"
   ]
  },
  {
   "cell_type": "code",
   "execution_count": 5,
   "metadata": {},
   "outputs": [],
   "source": [
    "import numpy as np"
   ]
  },
  {
   "cell_type": "code",
   "execution_count": 6,
   "metadata": {},
   "outputs": [
    {
     "data": {
      "text/plain": [
       "array([[0.48485428, 0.0376588 , 0.12413636, ..., 0.45095088, 0.01585033,\n",
       "        0.00312732],\n",
       "       [0.15183342, 0.2943539 , 0.68407861, ..., 0.62527551, 0.57923794,\n",
       "        0.26681209],\n",
       "       [0.4687081 , 0.98680468, 0.55814319, ..., 0.73936967, 0.72531624,\n",
       "        0.71250565],\n",
       "       ...,\n",
       "       [0.02901836, 0.30458647, 0.07701302, ..., 0.12696117, 0.60734807,\n",
       "        0.12443445],\n",
       "       [0.02191731, 0.31380391, 0.41353598, ..., 0.3522793 , 0.4234003 ,\n",
       "        0.4990112 ],\n",
       "       [0.71815455, 0.14184758, 0.72443361, ..., 0.77060356, 0.35098763,\n",
       "        0.61133873]])"
      ]
     },
     "execution_count": 6,
     "metadata": {},
     "output_type": "execute_result"
    }
   ],
   "source": [
    "d1 = np.random.rand(100, 100)\n",
    "d1"
   ]
  },
  {
   "cell_type": "markdown",
   "metadata": {},
   "source": [
    "# Subpackage build\n",
    "Creates a _local_ package with only the specified subpackage path changed."
   ]
  },
  {
   "cell_type": "code",
   "execution_count": 7,
   "metadata": {},
   "outputs": [],
   "source": [
    "quilt.build(\"akarve/labdata/d1\", d1)"
   ]
  },
  {
   "cell_type": "markdown",
   "metadata": {},
   "source": [
    "We use `load` and not `import` since Python caches module imports, and therefore `import` wouldn't see the change to `/d1`"
   ]
  },
  {
   "cell_type": "code",
   "execution_count": 8,
   "metadata": {},
   "outputs": [],
   "source": [
    "pkg = quilt.load(\"akarve/labdata\")"
   ]
  },
  {
   "cell_type": "code",
   "execution_count": 10,
   "metadata": {},
   "outputs": [
    {
     "data": {
      "text/plain": [
       "<PackageNode '/Users/karve/Library/Application Support/QuiltCli/quilt_packages/pkgs/Quilt/akarve/labdata'>\n",
       "d1"
      ]
     },
     "execution_count": 10,
     "metadata": {},
     "output_type": "execute_result"
    }
   ],
   "source": [
    "pkg"
   ]
  },
  {
   "cell_type": "markdown",
   "metadata": {},
   "source": [
    "# Numpy arrays are first class\n",
    "And get the same syntactic sugar as pandas dataframes"
   ]
  },
  {
   "cell_type": "code",
   "execution_count": 11,
   "metadata": {},
   "outputs": [
    {
     "data": {
      "text/plain": [
       "array([[0.48485428, 0.0376588 , 0.12413636, ..., 0.45095088, 0.01585033,\n",
       "        0.00312732],\n",
       "       [0.15183342, 0.2943539 , 0.68407861, ..., 0.62527551, 0.57923794,\n",
       "        0.26681209],\n",
       "       [0.4687081 , 0.98680468, 0.55814319, ..., 0.73936967, 0.72531624,\n",
       "        0.71250565],\n",
       "       ...,\n",
       "       [0.02901836, 0.30458647, 0.07701302, ..., 0.12696117, 0.60734807,\n",
       "        0.12443445],\n",
       "       [0.02191731, 0.31380391, 0.41353598, ..., 0.3522793 , 0.4234003 ,\n",
       "        0.4990112 ],\n",
       "       [0.71815455, 0.14184758, 0.72443361, ..., 0.77060356, 0.35098763,\n",
       "        0.61133873]])"
      ]
     },
     "execution_count": 11,
     "metadata": {},
     "output_type": "execute_result"
    }
   ],
   "source": [
    "pkg.d1()"
   ]
  },
  {
   "cell_type": "markdown",
   "metadata": {},
   "source": [
    "# Subpackage push\n",
    "We can now atomically push sub-packages such that non-overlapping subpackage pushes all end up in *the same package*. When pushes overlap, last write wins."
   ]
  },
  {
   "cell_type": "code",
   "execution_count": 12,
   "metadata": {},
   "outputs": [
    {
     "data": {
      "text/plain": [
       "<PackageNode '/Users/karve/Library/Application Support/QuiltCli/quilt_packages/pkgs/Quilt/akarve/labdata'>\n",
       "d1"
      ]
     },
     "execution_count": 12,
     "metadata": {},
     "output_type": "execute_result"
    }
   ],
   "source": [
    "pkg"
   ]
  },
  {
   "cell_type": "markdown",
   "metadata": {},
   "source": [
    "First, create a repository to push to:"
   ]
  },
  {
   "cell_type": "code",
   "execution_count": 13,
   "metadata": {},
   "outputs": [
    {
     "name": "stdout",
     "output_type": "stream",
     "text": [
      "Fetching upload URLs from the registry...\n"
     ]
    },
    {
     "name": "stderr",
     "output_type": "stream",
     "text": [
      "\r",
      "  0%|          | 0.00/80.1k [00:00<?, ?B/s]"
     ]
    },
    {
     "name": "stdout",
     "output_type": "stream",
     "text": [
      "Uploading 1 fragments (80128 bytes)...\n"
     ]
    },
    {
     "name": "stderr",
     "output_type": "stream",
     "text": [
      "100%|██████████| 80.1k/80.1k [00:01<00:00, 65.1kB/s]\n"
     ]
    },
    {
     "name": "stdout",
     "output_type": "stream",
     "text": [
      "Uploading package metadata...\n",
      "Updating the 'latest' tag...\n",
      "Push complete. akarve/labdata is live:\n",
      "https://stage.quiltdata.com/package/akarve/labdata\n"
     ]
    }
   ],
   "source": [
    "quilt.push(\"akarve/labdata\", is_public=True)"
   ]
  },
  {
   "cell_type": "markdown",
   "metadata": {},
   "source": [
    "Add some more data"
   ]
  },
  {
   "cell_type": "code",
   "execution_count": 14,
   "metadata": {},
   "outputs": [
    {
     "name": "stderr",
     "output_type": "stream",
     "text": [
      "\r",
      "  0%|          | 0.00/40.1k [00:00<?, ?B/s]"
     ]
    },
    {
     "name": "stdout",
     "output_type": "stream",
     "text": [
      "Fetching upload URLs from the registry...\n",
      "Uploading 1 fragments (40128 bytes)...\n"
     ]
    },
    {
     "name": "stderr",
     "output_type": "stream",
     "text": [
      "100%|██████████| 40.1k/40.1k [00:01<00:00, 32.8kB/s]\n"
     ]
    },
    {
     "name": "stdout",
     "output_type": "stream",
     "text": [
      "Uploading package metadata...\n",
      "Push complete. akarve/labdata/d2 is live:\n",
      "https://stage.quiltdata.com/package/akarve/labdata\n"
     ]
    }
   ],
   "source": [
    "d2 = np.random.rand(500, 10)\n",
    "d3 = np.random.rand(20, 45)\n",
    "quilt.build(\"akarve/labdata/d2\", d2)\n",
    "quilt.push(\"akarve/labdata/d2\")"
   ]
  },
  {
   "cell_type": "code",
   "execution_count": 16,
   "metadata": {},
   "outputs": [
    {
     "data": {
      "text/plain": [
       "<PackageNode '/Users/karve/Library/Application Support/QuiltCli/quilt_packages/pkgs/Quilt/akarve/labdata'>\n",
       "d1\n",
       "d2"
      ]
     },
     "execution_count": 16,
     "metadata": {},
     "output_type": "execute_result"
    }
   ],
   "source": [
    "pkg = quilt.load(\"akarve/labdata\")\n",
    "pkg"
   ]
  },
  {
   "cell_type": "code",
   "execution_count": null,
   "metadata": {},
   "outputs": [],
   "source": []
  },
  {
   "cell_type": "markdown",
   "metadata": {},
   "source": [
    "## Accumulate changes\n",
    "`quilt.push(\"akarve/labdata/d3\")` can happen on any machine logged in as `akarve`. Note how non-overlapping changes accumulate. In this way multiple machines can contribute to the same package."
   ]
  },
  {
   "cell_type": "code",
   "execution_count": 18,
   "metadata": {},
   "outputs": [
    {
     "name": "stderr",
     "output_type": "stream",
     "text": [
      "\r",
      "  0%|          | 0.00/7.33k [00:00<?, ?B/s]"
     ]
    },
    {
     "name": "stdout",
     "output_type": "stream",
     "text": [
      "Fetching upload URLs from the registry...\n",
      "Uploading 1 fragments (7328 bytes)...\n"
     ]
    },
    {
     "name": "stderr",
     "output_type": "stream",
     "text": [
      "\r",
      "100%|██████████| 7.33k/7.33k [00:00<00:00, 9.76kB/s]"
     ]
    },
    {
     "name": "stdout",
     "output_type": "stream",
     "text": [
      "Uploading package metadata...\n",
      "Push complete. akarve/labdata/d3 is live:\n",
      "https://stage.quiltdata.com/package/akarve/labdata\n"
     ]
    },
    {
     "name": "stderr",
     "output_type": "stream",
     "text": [
      "\n"
     ]
    }
   ],
   "source": [
    "quilt.build(\"akarve/labdata/d3\", d3)\n",
    "quilt.push(\"akarve/labdata/d3\")"
   ]
  },
  {
   "cell_type": "code",
   "execution_count": 19,
   "metadata": {},
   "outputs": [
    {
     "data": {
      "text/plain": [
       "<PackageNode '/Users/karve/Library/Application Support/QuiltCli/quilt_packages/pkgs/Quilt/akarve/labdata'>\n",
       "d1\n",
       "d2\n",
       "d3"
      ]
     },
     "execution_count": 19,
     "metadata": {},
     "output_type": "execute_result"
    }
   ],
   "source": [
    "pkg = quilt.load(\"akarve/labdata\")\n",
    "pkg"
   ]
  },
  {
   "cell_type": "code",
   "execution_count": null,
   "metadata": {},
   "outputs": [],
   "source": []
  }
 ],
 "metadata": {
  "kernelspec": {
   "display_name": "Python 3",
   "language": "python",
   "name": "python3"
  },
  "language_info": {
   "codemirror_mode": {
    "name": "ipython",
    "version": 3
   },
   "file_extension": ".py",
   "mimetype": "text/x-python",
   "name": "python",
   "nbconvert_exporter": "python",
   "pygments_lexer": "ipython3",
   "version": "3.6.3"
  }
 },
 "nbformat": 4,
 "nbformat_minor": 2
}
